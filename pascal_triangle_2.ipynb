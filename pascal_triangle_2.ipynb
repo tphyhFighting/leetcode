{
 "cells": [
  {
   "cell_type": "code",
   "execution_count": null,
   "metadata": {},
   "outputs": [],
   "source": [
    "class Solution:\n",
    "    def getRow(self, rowIndex):\n",
    "        \"\"\"\n",
    "        :type rowIndex: int\n",
    "        :rtype: List[int]\n",
    "        Given an index k, return the kth row of the Pascal's triangle.\n",
    "        For example, given k = 3,\n",
    "        Return [1,3,3,1].\n",
    "        \"\"\"\n",
    "        current = [1]\n",
    "        if rowIndex < 0:\n",
    "            return \n",
    "        elif rowIndex == 0:\n",
    "            return current\n",
    "        else:\n",
    "            for i in range(1, rowIndex + 1):\n",
    "                for j in range(i , -1, -1):\n",
    "                    if j == i:\n",
    "                        current.append(1)\n",
    "                    elif j == 0:\n",
    "                        current[0] = 1\n",
    "                    else:\n",
    "                        current[j] = current[j] + current[j-1]\n",
    "        return current"
   ]
  }
 ],
 "metadata": {
  "kernelspec": {
   "display_name": "Python 3",
   "language": "python",
   "name": "python3"
  },
  "language_info": {
   "codemirror_mode": {
    "name": "ipython",
    "version": 3
   },
   "file_extension": ".py",
   "mimetype": "text/x-python",
   "name": "python",
   "nbconvert_exporter": "python",
   "pygments_lexer": "ipython3",
   "version": "3.5.2"
  }
 },
 "nbformat": 4,
 "nbformat_minor": 2
}
