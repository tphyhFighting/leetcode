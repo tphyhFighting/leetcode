{
 "cells": [
  {
   "cell_type": "code",
   "execution_count": 1,
   "metadata": {},
   "outputs": [],
   "source": [
    "#Definition for singly-linked list"
   ]
  },
  {
   "cell_type": "code",
   "execution_count": 2,
   "metadata": {},
   "outputs": [],
   "source": [
    "#class ListNode(object):\n",
    "#    def __init__(self, x):\n",
    "#        self.val = x\n",
    "#        self.next = None"
   ]
  },
  {
   "cell_type": "code",
   "execution_count": null,
   "metadata": {},
   "outputs": [],
   "source": [
    "class Solution(object):\n",
    "    def hasCycle(self, head):\n",
    "        \"\"\"\n",
    "        Given a linked list, determine if it has a cycle in it.\n",
    "\n",
    "        Follow up:\n",
    "        Can you solve it without using extra space?\n",
    "        :type head:ListNode\n",
    "        :rtype: bool\n",
    "        \"\"\"\n",
    "        if head is None:\n",
    "            return False\n",
    "        slowp = head\n",
    "        fastq = head\n",
    "        while fastq.next is not None and fastq.next.next is not None:\n",
    "            slowp = slowp.next\n",
    "            fastq = fastq.next.next\n",
    "            if slowp == fastq:\n",
    "                return True\n",
    "        return False"
   ]
  }
 ],
 "metadata": {
  "kernelspec": {
   "display_name": "Python 3",
   "language": "python",
   "name": "python3"
  },
  "language_info": {
   "codemirror_mode": {
    "name": "ipython",
    "version": 3
   },
   "file_extension": ".py",
   "mimetype": "text/x-python",
   "name": "python",
   "nbconvert_exporter": "python",
   "pygments_lexer": "ipython3",
   "version": "3.6.1"
  }
 },
 "nbformat": 4,
 "nbformat_minor": 2
}
