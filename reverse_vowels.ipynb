{
 "cells": [
  {
   "cell_type": "code",
   "execution_count": null,
   "metadata": {},
   "outputs": [],
   "source": [
    "#Reverse Vowels of a String   leetcode 345\n",
    "class Solution(object):\n",
    "    '''\n",
    "    Write a function that takes a string as input and reverse only the vowels of a string.\n",
    "\n",
    "    Example 1:\n",
    "    Given s = \"hello\", return \"holle\".\n",
    "\n",
    "    Example 2:\n",
    "    Given s = \"leetcode\", return \"leotcede\".\n",
    "\n",
    "    Note:\n",
    "    The vowels does not include the letter \"y\".\n",
    "    vowels are \"a\",\"o\",\"e\",\"i\",\"u\",\"A\",\"O\",\"E\",\"I\",\"U\"\n",
    "    '''\n",
    "    def reverseVowels(self, s):\n",
    "        \"\"\"\n",
    "        :type s: str\n",
    "        :rtype: str\n",
    "        \"\"\"\n",
    "        vowels = [\"a\", \"o\", \"e\", \"i\", \"u\", \"A\", \"O\", \"E\", \"I\", \"U\"]\n",
    "        length = len(s)\n",
    "        if length == 0:\n",
    "            return s\n",
    "        i = 0\n",
    "        j = length-1\n",
    "        s_list = list(s)\n",
    "        while i<j and i != j and i != length -1:\n",
    "            if s[i] not in vowels:\n",
    "                i += 1\n",
    "            elif s[j] not in vowels:\n",
    "                j -= 1\n",
    "            else:\n",
    "                s_list[i],s_list[j] = s_list[j],s_list[i]\n",
    "                i += 1\n",
    "                j -= 1\n",
    "        return ''.join(s_list)"
   ]
  }
 ],
 "metadata": {
  "kernelspec": {
   "display_name": "Python 3",
   "language": "python",
   "name": "python3"
  },
  "language_info": {
   "codemirror_mode": {
    "name": "ipython",
    "version": 3
   },
   "file_extension": ".py",
   "mimetype": "text/x-python",
   "name": "python",
   "nbconvert_exporter": "python",
   "pygments_lexer": "ipython3",
   "version": "3.5.2"
  }
 },
 "nbformat": 4,
 "nbformat_minor": 2
}
